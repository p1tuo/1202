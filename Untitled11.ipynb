{
  "nbformat": 4,
  "nbformat_minor": 0,
  "metadata": {
    "colab": {
      "name": "Untitled11.ipynb",
      "provenance": [],
      "authorship_tag": "ABX9TyNoN4ROuMCzqNcfgmHBun6s",
      "include_colab_link": true
    },
    "kernelspec": {
      "name": "python3",
      "display_name": "Python 3"
    }
  },
  "cells": [
    {
      "cell_type": "markdown",
      "metadata": {
        "id": "view-in-github",
        "colab_type": "text"
      },
      "source": [
        "<a href=\"https://colab.research.google.com/github/p1tuo/1202/blob/main/Untitled11.ipynb\" target=\"_parent\"><img src=\"https://colab.research.google.com/assets/colab-badge.svg\" alt=\"Open In Colab\"/></a>"
      ]
    },
    {
      "cell_type": "code",
      "metadata": {
        "id": "axPH6DYbq1or"
      },
      "source": [
        ""
      ],
      "execution_count": null,
      "outputs": []
    },
    {
      "cell_type": "code",
      "metadata": {
        "id": "hRkDLNTunA8T"
      },
      "source": [
        "import os\r\n",
        "import numpy as np\r\n",
        "import matplotlib.pyplot as plt\r\n",
        "import pandas as pd\r\n",
        "\r\n",
        "from keras.models import Sequential, load_model\r\n",
        "from keras.datasets import cifar10\r\n",
        "from keras.utils import np_utils,plot_model\r\n",
        "from keras.layers import Dense, Dropout, Flatten, Conv2D, MaxPool2D"
      ],
      "execution_count": null,
      "outputs": []
    },
    {
      "cell_type": "code",
      "metadata": {
        "id": "1DV6V3uTnHgU"
      },
      "source": [
        "(X_train, Y_train), (X_test, Y_test) = cifar10.load_data()\r\n",
        "x_train = X_train.astype('float32')/255\r\n",
        "x_test = X_test.astype('float32')/255\r\n",
        "y_train = np_utils.to_categorical(Y_train)\r\n",
        "y_test = np_utils.to_categorical(Y_test)"
      ],
      "execution_count": null,
      "outputs": []
    },
    {
      "cell_type": "code",
      "metadata": {
        "id": "lvd5n_XPnImT"
      },
      "source": [
        "model = Sequential()\r\n",
        "model.add(Conv2D(filters=64, kernel_size=3, input_shape=(32, 32, 3), activation='relu', padding='same'))\r\n",
        "model.add(Conv2D(filters=64, kernel_size=3, input_shape=(32, 32, 3), activation='relu', padding='same'))\r\n",
        "model.add(MaxPool2D(pool_size=2))\r\n",
        "\r\n",
        "model.add(Conv2D(filters=128, kernel_size=3, activation='relu', padding='same'))\r\n",
        "model.add(Conv2D(filters=128, kernel_size=3, activation='relu', padding='same'))\r\n",
        "model.add(MaxPool2D(pool_size=2))\r\n",
        "\r\n",
        "model.add(Conv2D(filters=128, kernel_size=3, activation='relu', padding='same'))\r\n",
        "model.add(Conv2D(filters=128, kernel_size=3, activation='relu', padding='same'))\r\n",
        "model.add(MaxPool2D(pool_size=2))\r\n",
        "\r\n",
        "model.add(Flatten())\r\n",
        "model.add(Dense(512, activation='relu'))\r\n",
        "model.add(Dropout(rate=0.25))\r\n",
        "model.add(Dense(10, activation='softmax'))"
      ],
      "execution_count": null,
      "outputs": []
    },
    {
      "cell_type": "code",
      "metadata": {
        "id": "joIhNFqQnMmc"
      },
      "source": [
        "print(model.summary())"
      ],
      "execution_count": null,
      "outputs": []
    },
    {
      "cell_type": "code",
      "metadata": {
        "id": "mnzONIrxnRqz"
      },
      "source": [
        "model.compile(loss='categorical_crossentropy', optimizer='adam', metrics=['accuracy'])\r\n",
        "model.fit(x_train, y_train, epochs=10, batch_size=64, verbose=1)"
      ],
      "execution_count": null,
      "outputs": []
    },
    {
      "cell_type": "code",
      "metadata": {
        "id": "-EECoDd6nWP8"
      },
      "source": [
        "loss, accuracy = model.evaluate(x_test, y_test)\r\n",
        "print('Test:')\r\n",
        "print('Loss:', loss)\r\n",
        "print('Accuracy:', accuracy)"
      ],
      "execution_count": null,
      "outputs": []
    }
  ]
}